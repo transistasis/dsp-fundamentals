{
 "cells": [
  {
   "cell_type": "markdown",
   "id": "fd00cdc8",
   "metadata": {},
   "source": [
    "# Python Fundamentals for Digital Signal Processing\n",
    "---"
   ]
  },
  {
   "cell_type": "markdown",
   "id": "fad4ad86",
   "metadata": {},
   "source": [
    "This notebook covers an introduction to the following topics:\n",
    "* Python basics\n",
    "    * Lists\n",
    "    * For loops\n",
    "    * Dictionaries\n",
    "    * Classes\n",
    "* Numpy\n",
    "* Scipy\n",
    "* Matplotlib\n"
   ]
  },
  {
   "cell_type": "markdown",
   "id": "28ed5b4c",
   "metadata": {},
   "source": [
    "## Python Basics\n",
    "---"
   ]
  },
  {
   "cell_type": "markdown",
   "id": "ed83a266",
   "metadata": {},
   "source": [
    "This section covers some Python basics in order to get up to speed quickly. This section is not comprehensive."
   ]
  },
  {
   "cell_type": "markdown",
   "id": "0d75d89b",
   "metadata": {},
   "source": [
    "### Lists\n",
    "---"
   ]
  },
  {
   "cell_type": "markdown",
   "id": "3c17450b",
   "metadata": {},
   "source": [
    "To create a list:"
   ]
  },
  {
   "cell_type": "code",
   "execution_count": null,
   "id": "3ee97bf6",
   "metadata": {},
   "outputs": [],
   "source": [
    "mylist = []\n",
    "print(mylist)"
   ]
  },
  {
   "cell_type": "markdown",
   "id": "c514b651",
   "metadata": {},
   "source": [
    "Or to create a list with initialization values:"
   ]
  },
  {
   "cell_type": "code",
   "execution_count": null,
   "id": "1c53ddc9",
   "metadata": {},
   "outputs": [],
   "source": [
    "mylist = [1, 2, 3.0, \"Cats\", [1, 2, \"Dogs\"]]\n",
    "print(mylist)"
   ]
  },
  {
   "cell_type": "markdown",
   "id": "695de2b1",
   "metadata": {},
   "source": [
    "To append an item to the end of a list:"
   ]
  },
  {
   "cell_type": "code",
   "execution_count": null,
   "id": "f93e0f7f",
   "metadata": {},
   "outputs": [],
   "source": [
    "mylist.append(\"All types can be appended to a list!\")\n",
    "print(mylist)"
   ]
  },
  {
   "cell_type": "markdown",
   "id": "ed7da10a",
   "metadata": {},
   "source": [
    "To display all the elements in a list:"
   ]
  },
  {
   "cell_type": "code",
   "execution_count": null,
   "id": "8d7dcf52",
   "metadata": {},
   "outputs": [],
   "source": [
    "for item in mylist:\n",
    "    print(item)"
   ]
  },
  {
   "cell_type": "markdown",
   "id": "c0c0196d",
   "metadata": {},
   "source": [
    "To search a list for an element:"
   ]
  },
  {
   "cell_type": "code",
   "execution_count": null,
   "id": "dfc77428",
   "metadata": {},
   "outputs": [],
   "source": [
    "if \"Cats\" in mylist:\n",
    "    print('We found the string \"Cats\" in the list!')"
   ]
  },
  {
   "cell_type": "markdown",
   "id": "a8b1203e",
   "metadata": {},
   "source": [
    "### For Loops\n",
    "---"
   ]
  },
  {
   "cell_type": "code",
   "execution_count": null,
   "id": "07c2e55f",
   "metadata": {},
   "outputs": [],
   "source": [
    "numlist = [1, 2, 3, 4, 5, 6]\n",
    "print(numlist)"
   ]
  },
  {
   "cell_type": "markdown",
   "id": "24c409e1",
   "metadata": {},
   "source": [
    "To iterate through all elements in a list (as shown above):"
   ]
  },
  {
   "cell_type": "code",
   "execution_count": null,
   "id": "bb253f90",
   "metadata": {},
   "outputs": [],
   "source": [
    "for item in numlist:\n",
    "    print(item)"
   ]
  },
  {
   "cell_type": "markdown",
   "id": "61108ce4",
   "metadata": {},
   "source": [
    "Printing values using the range function:"
   ]
  },
  {
   "cell_type": "code",
   "execution_count": null,
   "id": "ce4ca184",
   "metadata": {},
   "outputs": [],
   "source": [
    "for x in range(5):\n",
    "    print(x)"
   ]
  },
  {
   "cell_type": "code",
   "execution_count": null,
   "id": "3a99a28f",
   "metadata": {},
   "outputs": [],
   "source": [
    "for x in range (3, 6):\n",
    "    print(x)"
   ]
  },
  {
   "cell_type": "code",
   "execution_count": null,
   "id": "d5205c4b",
   "metadata": {},
   "outputs": [],
   "source": [
    "for x in range(3, 8, 2):\n",
    "    print(x)"
   ]
  },
  {
   "cell_type": "markdown",
   "id": "27ff41a4",
   "metadata": {},
   "source": [
    "Skipping all even values:"
   ]
  },
  {
   "cell_type": "code",
   "execution_count": null,
   "id": "087c6f92",
   "metadata": {},
   "outputs": [],
   "source": [
    "for x in range(10):\n",
    "    if (x % 2 == 0):\n",
    "        continue\n",
    "    print(x)"
   ]
  },
  {
   "cell_type": "markdown",
   "id": "984e4726",
   "metadata": {},
   "source": [
    "Skipping all odd values:"
   ]
  },
  {
   "cell_type": "code",
   "execution_count": null,
   "id": "ef4710c0",
   "metadata": {},
   "outputs": [],
   "source": [
    "for x in range(10):\n",
    "    if (x % 2 != 0):\n",
    "        continue\n",
    "    print(x)"
   ]
  },
  {
   "cell_type": "markdown",
   "id": "08c15658",
   "metadata": {},
   "source": [
    "Skipping every third value:"
   ]
  },
  {
   "cell_type": "code",
   "execution_count": null,
   "id": "736c6510",
   "metadata": {},
   "outputs": [],
   "source": [
    "for x in range(15):\n",
    "    if (x % 3 == 0):\n",
    "        continue\n",
    "    print(x)"
   ]
  },
  {
   "cell_type": "markdown",
   "id": "520bb0fd",
   "metadata": {},
   "source": [
    "### Dictionaries\n",
    "---"
   ]
  },
  {
   "cell_type": "markdown",
   "id": "252bfe89",
   "metadata": {},
   "source": [
    "To create a dictionary:"
   ]
  },
  {
   "cell_type": "code",
   "execution_count": null,
   "id": "802d42b0",
   "metadata": {},
   "outputs": [],
   "source": [
    "mydict = {}\n",
    "print(mydict)"
   ]
  },
  {
   "cell_type": "markdown",
   "id": "2eb752c4",
   "metadata": {},
   "source": [
    "Or to create a dictionary with initialization values:"
   ]
  },
  {
   "cell_type": "code",
   "execution_count": null,
   "id": "43372b24",
   "metadata": {},
   "outputs": [],
   "source": [
    "mydict = {\n",
    "    \"Cat\"   : 3,\n",
    "    \"Dog\"   : 1,\n",
    "    \"Fish\"  : 50,\n",
    "    \"Cost\"  : 123.45,\n",
    "    \"Notes\" : \"Pets are awesome\",\n",
    "    \"Array\" : [1, 2, 3, 4]\n",
    "}\n",
    "print(mydict)"
   ]
  },
  {
   "cell_type": "markdown",
   "id": "5823e0b3",
   "metadata": {},
   "source": [
    "To display a dictionary element:"
   ]
  },
  {
   "cell_type": "code",
   "execution_count": null,
   "id": "ccd6f337",
   "metadata": {},
   "outputs": [],
   "source": [
    "print(mydict[\"Notes\"])"
   ]
  },
  {
   "cell_type": "markdown",
   "id": "c3fafdd4",
   "metadata": {},
   "source": [
    "To delete a dictionary element:"
   ]
  },
  {
   "cell_type": "code",
   "execution_count": null,
   "id": "226ffd77",
   "metadata": {},
   "outputs": [],
   "source": [
    "del mydict[\"Array\"]\n",
    "print(mydict)"
   ]
  },
  {
   "cell_type": "markdown",
   "id": "7f5a81ba",
   "metadata": {},
   "source": [
    "To display all elements in a dictionary:"
   ]
  },
  {
   "cell_type": "code",
   "execution_count": null,
   "id": "532b2e52",
   "metadata": {},
   "outputs": [],
   "source": [
    "for key,value in mydict.items():\n",
    "    print(\"Key: %s \\t Value: %s\" %(key,value))"
   ]
  },
  {
   "cell_type": "markdown",
   "id": "a896391e",
   "metadata": {},
   "source": [
    "### Classes\n",
    "---"
   ]
  },
  {
   "cell_type": "markdown",
   "id": "b6211bf9",
   "metadata": {},
   "source": [
    "To define a basic class:"
   ]
  },
  {
   "cell_type": "code",
   "execution_count": null,
   "id": "05963f82",
   "metadata": {},
   "outputs": [],
   "source": [
    "class Cat:\n",
    "    name = \"\"\n",
    "    breed = \"\"\n",
    "    age = 0;\n",
    "    \n",
    "    def description(self):\n",
    "        description = \"%s is a %d year old %s cat. He's really bad.\" %(self.name, self.age, self.breed)\n",
    "        return description"
   ]
  },
  {
   "cell_type": "markdown",
   "id": "6cf2f464",
   "metadata": {},
   "source": [
    "To create an object of this class:"
   ]
  },
  {
   "cell_type": "code",
   "execution_count": null,
   "id": "1750e3bb",
   "metadata": {},
   "outputs": [],
   "source": [
    "my_kitty = Cat()\n",
    "print(my_kitty)"
   ]
  },
  {
   "cell_type": "markdown",
   "id": "b916ddf1",
   "metadata": {},
   "source": [
    "To modify object data members:"
   ]
  },
  {
   "cell_type": "code",
   "execution_count": null,
   "id": "db83461b",
   "metadata": {},
   "outputs": [],
   "source": [
    "my_kitty.name = \"The Jerk\"\n",
    "my_kitty.age = 10\n",
    "my_kitty.breed = \"American Shorthair\""
   ]
  },
  {
   "cell_type": "markdown",
   "id": "72d4504c",
   "metadata": {},
   "source": [
    "To call a class method:"
   ]
  },
  {
   "cell_type": "code",
   "execution_count": null,
   "id": "280bf0b5",
   "metadata": {},
   "outputs": [],
   "source": [
    "my_kitty.description()"
   ]
  },
  {
   "cell_type": "markdown",
   "id": "d4b7907f",
   "metadata": {},
   "source": [
    "## Numpy Basics\n",
    "---"
   ]
  },
  {
   "cell_type": "markdown",
   "id": "e45a7fa2",
   "metadata": {},
   "source": [
    "To install Numpy, use the following command:\n",
    "\n",
    "    pip install numpy"
   ]
  },
  {
   "cell_type": "markdown",
   "id": "883c360f",
   "metadata": {},
   "source": [
    "To use numpy in a program:"
   ]
  },
  {
   "cell_type": "code",
   "execution_count": null,
   "id": "f3a62d91",
   "metadata": {},
   "outputs": [],
   "source": [
    "import numpy as np"
   ]
  },
  {
   "cell_type": "markdown",
   "id": "95e713ac",
   "metadata": {},
   "source": [
    "To create a numpy array:"
   ]
  },
  {
   "cell_type": "code",
   "execution_count": null,
   "id": "377679fd",
   "metadata": {},
   "outputs": [],
   "source": [
    "x = np.arange(1, 10)\n",
    "print(x)"
   ]
  },
  {
   "cell_type": "markdown",
   "id": "7a4767fe",
   "metadata": {},
   "source": [
    "Create an array with a specific number of spaced values bounded by a closed interval (returned as 64-bit floats):"
   ]
  },
  {
   "cell_type": "code",
   "execution_count": null,
   "id": "eeb1e5bd",
   "metadata": {},
   "outputs": [],
   "source": [
    "z = np.linspace(1, 10, 10)\n",
    "print(z, len(z), type(z[0]))"
   ]
  },
  {
   "cell_type": "markdown",
   "id": "1e760667",
   "metadata": {},
   "source": [
    "## Scipy Basics\n",
    "---"
   ]
  },
  {
   "cell_type": "markdown",
   "id": "11040a22",
   "metadata": {},
   "source": [
    "To install Scipy, use the following command:\n",
    "\n",
    "    pip install scipy"
   ]
  },
  {
   "cell_type": "markdown",
   "id": "ef2b45b4",
   "metadata": {},
   "source": [
    "For DSP, the signal module of scipy is very useful:"
   ]
  },
  {
   "cell_type": "code",
   "execution_count": null,
   "id": "38555d01",
   "metadata": {},
   "outputs": [],
   "source": [
    "from scipy import signal"
   ]
  },
  {
   "cell_type": "markdown",
   "id": "87044495",
   "metadata": {},
   "source": [
    "To create a Hanning window:"
   ]
  },
  {
   "cell_type": "code",
   "execution_count": null,
   "id": "daed78b4",
   "metadata": {},
   "outputs": [],
   "source": [
    "window = signal.hann(51)\n",
    "print(window)"
   ]
  },
  {
   "cell_type": "markdown",
   "id": "89b5d8c8",
   "metadata": {},
   "source": [
    "## Matplotlib Basics\n",
    "---"
   ]
  },
  {
   "cell_type": "markdown",
   "id": "46ac7e13",
   "metadata": {},
   "source": [
    "To install Matplotlib, use the following command:\n",
    "\n",
    "    pip install matplotlib"
   ]
  },
  {
   "cell_type": "markdown",
   "id": "42a2d849",
   "metadata": {},
   "source": [
    "The pyplot and style modules allow plots to be created and stylized, respectively:"
   ]
  },
  {
   "cell_type": "code",
   "execution_count": null,
   "id": "4ea99336",
   "metadata": {},
   "outputs": [],
   "source": [
    "from matplotlib import pyplot as plt\n",
    "from matplotlib import style"
   ]
  },
  {
   "cell_type": "markdown",
   "id": "7b4da7a5",
   "metadata": {},
   "source": [
    "To create a plot:"
   ]
  },
  {
   "cell_type": "code",
   "execution_count": null,
   "id": "46296a1f",
   "metadata": {},
   "outputs": [],
   "source": [
    "import numpy as np\n",
    "\n",
    "x = np.arange(10)\n",
    "\n",
    "plt.plot(x)\n",
    "plt.show()"
   ]
  },
  {
   "cell_type": "markdown",
   "id": "42ac4bc2",
   "metadata": {},
   "source": [
    "A more complete plotting example:"
   ]
  },
  {
   "cell_type": "code",
   "execution_count": null,
   "id": "2e4a527c",
   "metadata": {},
   "outputs": [],
   "source": [
    "from matplotlib import pyplot as plt\n",
    "from matplotlib import style\n",
    "\n",
    "x  = [1, 2, 3, 4, 5, 6]\n",
    "y1 = [7, 5, 6, 7, 8, 9]\n",
    "y2 = [3, 6, 5, 7, 8, 6]\n",
    "\n",
    "# Changing the style of the plot\n",
    "#     - default\n",
    "#     - fivethirtyeight\n",
    "#     - bmh\n",
    "#     - dark_background\n",
    "#     - seaborn-pastel\n",
    "style.use('bmh')\n",
    "\n",
    "# Plot the data vectors\n",
    "plt.plot(x, y1, label=\"Line One\")\n",
    "plt.plot(x, y2, label=\"Line Two\")\n",
    "\n",
    "# Add labels to the plot\n",
    "plt.xlabel('X axis')\n",
    "plt.ylabel('Y axis')\n",
    "plt.title(\"Simple Plot\")\n",
    "\n",
    "# Show the plot legend\n",
    "plt.legend()\n",
    "plt.show()"
   ]
  },
  {
   "cell_type": "markdown",
   "id": "5f3bfae4",
   "metadata": {},
   "source": [
    "Creating subplots:"
   ]
  },
  {
   "cell_type": "code",
   "execution_count": null,
   "id": "a93cb13f",
   "metadata": {},
   "outputs": [],
   "source": [
    "from matplotlib import pyplot as plt\n",
    "from matplotlib import style\n",
    "\n",
    "# Import the mysignals.py module for use in this module\n",
    "#     Note that the ./data/ folder must contain a __pyinit__.py file in order for mysignals.py to be included as a package\n",
    "#     See: https://stackoverflow.com/questions/4383571/importing-files-from-different-folder\n",
    "import data.mysignals as sig\n",
    "\n",
    "style.use('dark_background')\n",
    "\n",
    "# The plt.subplots method returns two parameters\n",
    "f, plt_arr = plt.subplots(3, sharex=True)\n",
    "\n",
    "# Add labels\n",
    "#     The suptitle method stands for super title\n",
    "f.suptitle('Multiplot')\n",
    "\n",
    "# Plot the imported data in the 3 defined subplots\n",
    "plt_arr[0].plot(sig.InputSignal_1kHz_15kHz, color=\"orange\")\n",
    "plt_arr[0].set_title('Subplot 1')\n",
    "\n",
    "plt_arr[1].plot(sig.InputSignal_1kHz_15kHz, color=\"red\")\n",
    "plt_arr[1].set_title('Subplot 2')\n",
    "\n",
    "plt_arr[2].plot(sig.InputSignal_1kHz_15kHz, color=\"purple\")\n",
    "plt_arr[2].set_title('Subplot 3')"
   ]
  },
  {
   "cell_type": "markdown",
   "id": "0c64f992",
   "metadata": {},
   "source": [
    "Generating signals:"
   ]
  },
  {
   "cell_type": "code",
   "execution_count": null,
   "id": "ede427ae",
   "metadata": {},
   "outputs": [],
   "source": [
    "import numpy as np\n",
    "from scipy import signal\n",
    "from matplotlib import pyplot as plt\n",
    "from matplotlib import style\n",
    "\n",
    "# Allows plot controls to be used in Jupyter notebooks\n",
    "%matplotlib notebook\n",
    "\n",
    "style.use('bmh')\n",
    "\n",
    "# Define a signal with a sampling rate of 2 kHz\n",
    "t = np.linspace(0, 1, 2001)\n",
    "\n",
    "# Define a 5 Hz and 250 Hz sine waves\n",
    "sig_5Hz   = np.sin(2*np.pi*5*t)\n",
    "sig_250Hz = np.sin(2*np.pi*250*t)\n",
    "\n",
    "# Sum the 5 Hz and 250 Hz sine waves \n",
    "sig_5Hz_250Hz = sig_5Hz + sig_250Hz\n",
    "\n",
    "#Create subplots to display all of the signals\n",
    "f, plt_arr = plt.subplots(3, sharex=True)\n",
    "\n",
    "# Define the super title\n",
    "f.suptitle('Generated Signals in Python')\n",
    "\n",
    "# Plot the data in the subplots\n",
    "plt_arr[0].plot(sig_5Hz, color=\"orange\")\n",
    "plt_arr[0].set_title('5 Hz Sine Wave')\n",
    "\n",
    "plt_arr[1].plot(sig_250Hz, color=\"red\")\n",
    "plt_arr[1].set_title('250 Hz Sine Wave')\n",
    "\n",
    "plt_arr[2].plot(sig_5Hz_250Hz, color=\"purple\")\n",
    "plt_arr[2].set_title('Summed 5 Hz and 250 Hz Sine Waves')\n",
    "\n",
    "plt.plot(sig_5Hz_250Hz)\n",
    "plt.show()\n",
    "\n"
   ]
  },
  {
   "cell_type": "markdown",
   "id": "eb211991",
   "metadata": {},
   "source": [
    "### Template for using LaTeX in Jupyter Notebooks"
   ]
  },
  {
   "cell_type": "markdown",
   "id": "28723e24",
   "metadata": {},
   "source": [
    "\\\\(a^2\\\\)\n",
    "\n",
    "$\n",
    "\\frac{arg 1}{arg 2} \\\\\n",
    "x^2\\\\\n",
    "e^{i\\pi}\\\\\n",
    "A_i\\\\\n",
    "B_{ij}\\\\\n",
    "\\sqrt[n]{arg}\t\n",
    "$"
   ]
  }
 ],
 "metadata": {
  "kernelspec": {
   "display_name": "Python 3 (ipykernel)",
   "language": "python",
   "name": "python3"
  },
  "language_info": {
   "codemirror_mode": {
    "name": "ipython",
    "version": 3
   },
   "file_extension": ".py",
   "mimetype": "text/x-python",
   "name": "python",
   "nbconvert_exporter": "python",
   "pygments_lexer": "ipython3",
   "version": "3.9.5"
  }
 },
 "nbformat": 4,
 "nbformat_minor": 5
}
