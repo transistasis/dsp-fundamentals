{
 "cells": [
  {
   "cell_type": "markdown",
   "id": "f0685710",
   "metadata": {},
   "source": [
    "# Signal Statistics and Noise\n",
    "---"
   ]
  },
  {
   "cell_type": "markdown",
   "id": "e46ef0dc",
   "metadata": {},
   "source": [
    "This section describes basic signal statistics and how to calculate them in Python, including:\n",
    "* Mean\n",
    "* Standard Deviation\n",
    "* Variance\n",
    "* Signal-to-Noise Ratio"
   ]
  },
  {
   "cell_type": "markdown",
   "id": "91281dff",
   "metadata": {},
   "source": [
    "## Mean\n",
    "---"
   ]
  },
  {
   "cell_type": "markdown",
   "id": "c539d163",
   "metadata": {},
   "source": [
    "When computing the mean, or average value of a signal, the DC component of that signal is actually being found.\n",
    "\n",
    "The mean of a signal can be computed by the following formula:\n",
    "\n",
    "$$\n",
    "{Mean}_{(DC)} = \\mu = \\frac{1}{N} \\sum_{i=0}^{N-1}x_i\n",
    "$$\n",
    "\n",
    "where:\n",
    "* $N$ is the number of samples in the data vector\n",
    "* $x_i$ is the i-th element of the data vector\n",
    "\n",
    "For example:\n",
    "\n",
    "$$\n",
    "x = [3, 6, 9] \\\\\n",
    "\\mu = \\frac{1}{N} \\sum_{i=0}^{N-1}x_i \\\\\n",
    "= \\frac{1}{3} \\sum_{i=0}^{3-1}x_i \\\\\n",
    "= \\frac{1}{3} \\sum_{i=0}^{2}x_i \\\\\n",
    "= \\frac{1}{3}[x_0 + x_1 + x_2] \\\\\n",
    "= \\frac{1}{3}[3 + 6 + 9] \\\\\n",
    "\\mu = \\frac{1}{3}[18] = 6\n",
    "$$\n"
   ]
  },
  {
   "cell_type": "code",
   "execution_count": 28,
   "id": "c578395d",
   "metadata": {},
   "outputs": [
    {
     "name": "stdout",
     "output_type": "stream",
     "text": [
      "The mean of the signal is: 0.037112\n",
      "-----------------------------------------------------\n",
      "The manually computed mean of the signal is: 0.037112\n",
      "\n"
     ]
    }
   ],
   "source": [
    "# Import the mysignals.py module for use in this module\n",
    "#     Note that the ./data/ folder must contain a __pyinit__.py file in order for mysignals.py to be included as a package\n",
    "#     See: https://stackoverflow.com/questions/4383571/importing-files-from-different-folder\n",
    "import data.mysignals as sigs\n",
    "import numpy as np\n",
    "\n",
    "# Store the signal samples in a variable for easier access\n",
    "signal = sigs.InputSignal_1kHz_15kHz\n",
    "\n",
    "# Compute the mean using the built-in Numpy method\n",
    "signal_mean = np.mean(signal)\n",
    "print(\"The mean of the signal is: %f\" %signal_mean)\n",
    "\n",
    "print(\"-----------------------------------------------------\")\n",
    "\n",
    "# Declare variables for the manual computation of the mean\n",
    "sum = 0.0\n",
    "n = len(signal);\n",
    "\n",
    "# Compute the mean summation manually\n",
    "for sample in signal:\n",
    "    sum += sample\n",
    "    \n",
    "print(\"The manually computed mean of the signal is: %f\\n\" %(sum/n))"
   ]
  },
  {
   "cell_type": "markdown",
   "id": "057ee188",
   "metadata": {},
   "source": [
    "## Standard Deviation\n",
    "---"
   ]
  },
  {
   "cell_type": "markdown",
   "id": "7d3a6cd2",
   "metadata": {},
   "source": [
    "While the DC value of a signal determines its average value, the AC component of that signal reflects how the signal fluctuates around that mean value.\n",
    "\n",
    "If dealing with a simple periodic signal, such as a sine or square wave, the AC component of the signal can be described by its peak-to-peak amplitude. \n",
    "\n",
    "However, most real-world signals have random (stochastic) characteristics associated with them, so a well-defined peak-to-peak amplitude cannot be determined. In this case, the standard deviation of a signal can be computed to determine how far a given sample of a signal deviates from the mean (also known as the DC component of the signal, which was calculated above).\n",
    "\n",
    "How far the i-th element of a data vector deviates from the mean can be calculated as follows:\n",
    "\n",
    "$$\n",
    "|{x_i - \\mu}|\n",
    "$$\n",
    "\n",
    "where:\n",
    "* $\\mu$ is the mean of the data vector\n",
    "* $x_i$ is the i-th element of the data vector\n",
    "\n",
    "With the ability to compute deviations, these computations can be made for each sample in a data vector to obtain the average deviation of the signal:\n",
    "\n",
    "$$\n",
    "\\sigma_{average} = \\frac{1}{N} \\sum_{i=0}^{N-1}|{x_i - \\mu}|\n",
    "$$\n",
    "\n",
    "Note that the absolute value (modulus) of this difference is used.\n",
    "\n",
    "The average deviation, as shown above isn't typically used, as it doesn't tend to model nature very well. When analyzing signals, the important parameter is not typically how the signal deviates from the mean, but rather the power represented by how the signal deviates from the mean. For example, when a signal and random noise combine in a system, the resultant noise is equal to the combined power of the individual signals, not their combined amplitudes.\n",
    "\n",
    "The standard deviation is similar to the average deviation (shown above). For the standard deviation, averaging is done with power, rather than amplitudes. This is achieved by squaring the deviations before taking the average, as shown below:\n",
    "\n",
    "$$\n",
    "\\sigma = \\sqrt{\\frac{1}{N-1} \\sum_{i=0}^{N-1}{(x_i - \\mu)^2}}\n",
    "$$\n",
    "\n",
    "Note the standard deviation calculation uses $N-1$, rather than $N$. See the following link for more information:\n",
    "https://stats.stackexchange.com/questions/3931/intuitive-explanation-for-dividing-by-n-1-when-calculating-standard-deviation\n",
    "\n",
    "Squaring the deviation reflects power since a given sample $x_i$ will correpond to a voltage value, and power is directly proportional to the square of voltage by the power equation (which is modified by Ohm's law below):\n",
    "\n",
    "$$\n",
    "P = IV \\\\\n",
    "= \\frac{V}{R}(V) \\because I = \\frac{V}{R} \\\\ \n",
    "= (\\frac{1}{R})V^2 \\\\\n",
    "= k \\cdot V^2 \\\\\n",
    "\\therefore P \\propto V^2\n",
    "$$\n"
   ]
  },
  {
   "cell_type": "code",
   "execution_count": 52,
   "id": "b5c9e864",
   "metadata": {},
   "outputs": [
    {
     "name": "stdout",
     "output_type": "stream",
     "text": [
      "The standard deviation of the signal is: 0.787502\n",
      "-----------------------------------------------------\n",
      "The manually computed variance of the signal is: 0.787502\n",
      "\n"
     ]
    }
   ],
   "source": [
    "# Import the mysignals.py module for use in this module\n",
    "#     Note that the ./data/ folder must contain a __pyinit__.py file in order for mysignals.py to be included as a package\n",
    "#     See: https://stackoverflow.com/questions/4383571/importing-files-from-different-folder\n",
    "import data.mysignals as sigs\n",
    "import numpy as np\n",
    "from math import sqrt as sqrt\n",
    "\n",
    "# Store the signal in a variable for easier access\n",
    "signal = sigs.InputSignal_1kHz_15kHz\n",
    "\n",
    "# Compute the standard deviation using the built-in Numpy method\n",
    "# The DDOF (Delta Degrees of Freedom) parameter allows standard deviation to be computed with N-ddof samples, where ddof=0 by default\n",
    "signal_standard_deviation = np.std(signal, ddof=1)\n",
    "print(\"The standard deviation of the signal is: %f\" %signal_standard_deviation)\n",
    "\n",
    "print(\"-----------------------------------------------------\")\n",
    "\n",
    "#Define a function to compute the mean of a signal\n",
    "def calcMean(signal):\n",
    "    sum = 0.0\n",
    "    n = len(signal)\n",
    "    \n",
    "    for sample in signal:\n",
    "            sum += sample\n",
    "    \n",
    "    return sum/n\n",
    "\n",
    "# Declare variables for the manual computation of the standard deviation\n",
    "sum = 0.0\n",
    "nMinusOne = len(signal) - 1;\n",
    "\n",
    "# Calculate the mean value that is used in the standard deviation formula\n",
    "signalMean = calcMean(signal)\n",
    "\n",
    "# Compute the standard deviation summation manually\n",
    "for sample in sigs.InputSignal_1kHz_15kHz:\n",
    "    sum += (sample - signalMean)**2\n",
    "\n",
    "print(\"The manually computed variance of the signal is: %f\\n\" %(sqrt(sum/nMinusOne)))"
   ]
  },
  {
   "cell_type": "markdown",
   "id": "15afbf43",
   "metadata": {},
   "source": [
    "## Variance\n",
    "---"
   ]
  },
  {
   "cell_type": "markdown",
   "id": "009b7d6d",
   "metadata": {},
   "source": [
    "This principle applies when computing variance, which reflects the power of the deviation from the mean:\n",
    "\n",
    "$$\n",
    "\\sigma^2 = \\frac{1}{N-1} \\sum_{i=0}^{N-1}{(x_i - \\mu)^2}\n",
    "$$\n",
    "\n",
    "In summary:\n",
    "* Standard deviation measures the AC portion of the signal\n",
    "* RMS (Root Mean Square) measures the DC and AC portions of the signal\n",
    "    * If the DC component is 0, then the RMS value is equal to the standard deviation"
   ]
  },
  {
   "cell_type": "code",
   "execution_count": 50,
   "id": "a66eec62",
   "metadata": {},
   "outputs": [
    {
     "name": "stdout",
     "output_type": "stream",
     "text": [
      "The variance of the signal is: 0.620159\n",
      "-----------------------------------------------------\n",
      "The manually computed variance of the signal is: 0.620159\n",
      "\n"
     ]
    }
   ],
   "source": [
    "# Import the mysignals.py module for use in this module\n",
    "#     Note that the ./data/ folder must contain a __pyinit__.py file in order for mysignals.py to be included as a package\n",
    "#     See: https://stackoverflow.com/questions/4383571/importing-files-from-different-folder\n",
    "import data.mysignals as sigs\n",
    "import numpy as np\n",
    "\n",
    "# Store the signal in a variable for easier access\n",
    "signal = sigs.InputSignal_1kHz_15kHz\n",
    "\n",
    "# Compute the variance using the built-in Numpy method\n",
    "# The DDOF (Delta Degrees of Freedom) parameter allows variance to be computed with N-ddof samples, where ddof=0 by default\n",
    "signal_variance = np.var(signal, ddof=1)\n",
    "print(\"The variance of the signal is: %f\" %signal_variance)\n",
    "\n",
    "print(\"-----------------------------------------------------\")\n",
    "\n",
    "#Define a function to compute the mean of a signal\n",
    "def calcMean(signal):\n",
    "    sum = 0.0\n",
    "    n = len(signal)\n",
    "    \n",
    "    for sample in signal:\n",
    "            sum += sample\n",
    "    \n",
    "    return sum/n\n",
    "\n",
    "\n",
    "# Declare variables for the manual computation of the variance\n",
    "sum = 0.0\n",
    "nMinusOne = len(signal) - 1;\n",
    "\n",
    "# Calculate the mean value that is used in the variance formula\n",
    "signalMean = calcMean(signal)\n",
    "\n",
    "# Compute the variance summation manually\n",
    "for sample in sigs.InputSignal_1kHz_15kHz:\n",
    "    sum += (sample - signalMean)**2\n",
    "    \n",
    "print(\"The manually computed variance of the signal is: %f\\n\" %(sum/nMinusOne))"
   ]
  },
  {
   "cell_type": "markdown",
   "id": "f549dc3c",
   "metadata": {},
   "source": [
    "## Signal-to-Noise Ratio (SNR)"
   ]
  },
  {
   "cell_type": "markdown",
   "id": "2e7c0fc2",
   "metadata": {},
   "source": [
    "The SNR of a signal can be computed as follows:\n",
    "\n",
    "$$\n",
    "SNR = \\frac{\\mu}{\\sigma}\n",
    "$$"
   ]
  },
  {
   "cell_type": "markdown",
   "id": "81390e02",
   "metadata": {},
   "source": [
    "## Coefficient of Variation"
   ]
  },
  {
   "cell_type": "markdown",
   "id": "351d6269",
   "metadata": {},
   "source": [
    "The CV of a signal can be computed by multiplying the SNR calculation above by a factor of 100:\n",
    "\n",
    "$$\n",
    "CV = \\frac{\\mu}{\\sigma} \\cdot 100\n",
    "$$"
   ]
  },
  {
   "cell_type": "markdown",
   "id": "663e33f3",
   "metadata": {},
   "source": []
  }
 ],
 "metadata": {
  "kernelspec": {
   "display_name": "Python 3 (ipykernel)",
   "language": "python",
   "name": "python3"
  },
  "language_info": {
   "codemirror_mode": {
    "name": "ipython",
    "version": 3
   },
   "file_extension": ".py",
   "mimetype": "text/x-python",
   "name": "python",
   "nbconvert_exporter": "python",
   "pygments_lexer": "ipython3",
   "version": "3.9.5"
  }
 },
 "nbformat": 4,
 "nbformat_minor": 5
}
