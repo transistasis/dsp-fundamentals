{
 "cells": [
  {
   "cell_type": "markdown",
   "id": "8ee3695c",
   "metadata": {},
   "source": [
    "# Linear Systems and Superposition\n",
    "---"
   ]
  },
  {
   "cell_type": "markdown",
   "id": "66c1c985",
   "metadata": {},
   "source": [
    "## Linear Systems\n",
    "---\n",
    "In order for system to be linear, it must possess the following qualities:\n",
    "* Homogeneity\n",
    "* Additivity\n",
    "* Shift invariance"
   ]
  },
  {
   "cell_type": "markdown",
   "id": "8f0dff38",
   "metadata": {},
   "source": [
    "### Homogeneity\n",
    "---\n",
    "A linear system is homogeneous if an amplitude shift on the input to a system results in an equal amplitude shift to the output signal of that system."
   ]
  },
  {
   "cell_type": "markdown",
   "id": "160baf9a",
   "metadata": {},
   "source": [
    "### Additivity\n",
    "---\n",
    "A linear system is additive if the sum of two inputs is fed into the system and the result is the sum of the expected outputs. "
   ]
  },
  {
   "cell_type": "markdown",
   "id": "f946e1bd",
   "metadata": {},
   "source": [
    "### Shift Invariance\n",
    "---\n",
    "A linear system is shift invariant if a shift in the input signal results in an identical shift in the output signal."
   ]
  },
  {
   "cell_type": "markdown",
   "id": "c226c895",
   "metadata": {},
   "source": [
    "### Sinusoidal Fidelity\n",
    "---\n",
    "If a sinusoid is applied to the system and the output is also a sinusoid with the same frequency, then sinusoidal fidelity exists. The linearity of a system can be tested by checking for sinusoidal fidelity.|"
   ]
  },
  {
   "cell_type": "markdown",
   "id": "3ef25c65",
   "metadata": {},
   "source": []
  },
  {
   "cell_type": "markdown",
   "id": "f2bd2526",
   "metadata": {},
   "source": [
    "### Superposition\n",
    "---"
   ]
  },
  {
   "cell_type": "markdown",
   "id": "8386a357",
   "metadata": {},
   "source": [
    "### The Delta Function\n",
    "---\n",
    "The delta function, or impulse, is signal that is equal to zero everywhere, with one normalized sample at unity, depending on whether the signal is delayed or advanced. The delta function is denoted as $\\delta[n]$."
   ]
  },
  {
   "cell_type": "code",
   "execution_count": null,
   "id": "683b243e",
   "metadata": {},
   "outputs": [],
   "source": [
    "import matplotlib.pyplot as plt\n",
    "import numpy as np\n",
    "from scipy import signal\n",
    "\n",
    "# Define the range of x values\n",
    "x = np.arange(-2, 7)\n",
    "\n",
    "# Use SciPy to create an impulse function\n",
    "y = signal.unit_impulse(len(x), 2)\n",
    "\n",
    "# Plot the results\n",
    "plt.stem(x,y)\n",
    "plt.show()\n"
   ]
  },
  {
   "cell_type": "markdown",
   "id": "0c5e3a5e",
   "metadata": {},
   "source": [
    "When a signal delta function is passed through a system, the impulse response, $h[n]$, is obtained. If the impulse response to a system is known for any delta function input, the impulse response for any other delta function input can be found by simply shifting and scaling the output that is already known."
   ]
  },
  {
   "cell_type": "markdown",
   "id": "1ab6807f",
   "metadata": {},
   "source": [
    "### Impulse Decomposition\n",
    "---\n",
    "A digital signal can be broken down into signals that each contain a single impulse that is shifted and scaled. This is known as impulse decomposition.\n",
    "\n",
    "If a signal, $x[n]$ contains $N$ samples, then impulse decomposition will result in N separate signals, $x_o[n], x_1[n], ..., x_{N-1}[n]$ that can be added back together, or synthesized, in order to recreate the original signal.\n",
    "\n",
    "This is the basis of convolution and allows signals to be analyzed one sample at a time."
   ]
  },
  {
   "cell_type": "markdown",
   "id": "ad82dc0c",
   "metadata": {},
   "source": [
    "### Fourier Decomposition\n",
    "---\n",
    "This will be described in the future."
   ]
  },
  {
   "cell_type": "markdown",
   "id": "acdc291a",
   "metadata": {},
   "source": [
    "### Step Decomposition\n",
    "---\n",
    "A digital signal can also be broken down in to separate step functions. This characterizes a signal in terms of the difference betweeen its samples."
   ]
  },
  {
   "cell_type": "code",
   "execution_count": null,
   "id": "6e584433",
   "metadata": {},
   "outputs": [],
   "source": []
  },
  {
   "cell_type": "code",
   "execution_count": null,
   "id": "5510e885",
   "metadata": {},
   "outputs": [],
   "source": []
  },
  {
   "cell_type": "code",
   "execution_count": null,
   "id": "8b17cef5",
   "metadata": {},
   "outputs": [],
   "source": []
  }
 ],
 "metadata": {
  "kernelspec": {
   "display_name": "Python 3 (ipykernel)",
   "language": "python",
   "name": "python3"
  },
  "language_info": {
   "codemirror_mode": {
    "name": "ipython",
    "version": 3
   },
   "file_extension": ".py",
   "mimetype": "text/x-python",
   "name": "python",
   "nbconvert_exporter": "python",
   "pygments_lexer": "ipython3",
   "version": "3.9.5"
  }
 },
 "nbformat": 4,
 "nbformat_minor": 5
}
